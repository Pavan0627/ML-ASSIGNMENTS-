{
 "cells": [
  {
   "cell_type": "markdown",
   "id": "a6bef216",
   "metadata": {},
   "source": [
    ":- importing libriraes\n",
    "\n",
    ";- selecting model\n",
    "\n",
    ":- load data\n",
    "\n",
    ";- select features\n",
    "\n",
    "}- (pre processing and feature engenerinhg)"
   ]
  },
  {
   "cell_type": "markdown",
   "id": "1b3afed6",
   "metadata": {},
   "source": [
    "Gathering Data:-\n",
    "This step includes the below tasks:\n",
    "Identify various data sources\n",
    "Collect data\n",
    "Integrate the data obtained from different sources \n",
    "\n",
    "Data preparation:-\n",
    "Data exploration:\n",
    "It is used to understand the nature of data that we have to work with. We need to understand the characteristics, format, and quality of data.\n",
    "A better understanding of data leads to an effective outcome. In this, we find Correlations, general trends, and outliers.\n",
    "Data pre-processing:\n",
    "Now the next step is preprocessing of data for its analysis.\n",
    "\n",
    "Data Wrangling:-\n",
    "It is not necessary that data we have collected is always of our use as some of the data may not be useful. In real-world applications, collected data may have various issues, including:\n",
    "\n",
    "Missing Values\n",
    "Duplicate data\n",
    "Invalid data\n",
    "Noise\n",
    "\n",
    "Analyse Data:-\n",
    "Selection of analytical techniques\n",
    "Building models\n",
    "Review the result\n",
    "\n",
    "Train the model;-\n",
    "We use datasets to train the model using various machine learning algorithms. Training a model is required so that it can understand the various patterns, rules, and, features.\n",
    "\n",
    "Test the model:-\n",
    "Testing the model determines the percentage accuracy of the model as per the requirement of project or problem.\n",
    "\n",
    "Deployment:-If the above-prepared model is producing an accurate result as per our requirement with acceptable speed, then we deploy the model in the real system. But before deploying the project, we will check whether it is improving its performance using available data or not. The deployment phase is similar to making the final report for a project."
   ]
  },
  {
   "cell_type": "code",
   "execution_count": null,
   "id": "9d17a8d6",
   "metadata": {},
   "outputs": [],
   "source": [
    "import turtle  \n",
    "# Creating turtle  \n",
    "t = turtle.Turtle()  \n",
    "  \n",
    "turtle.bgcolor(\"black\")  \n",
    "turtle.pensize(2)  \n",
    "turtle.speed(0)  \n",
    "  \n",
    "while (True):  \n",
    "    for i in range(6):  \n",
    "        for colors in [\"red\", \"blue\", \"magenta\", \"green\", \"yellow\", \"white\"]:  \n",
    "            turtle.color(colors)  \n",
    "            turtle.circle(100)  \n",
    "            turtle.left(10)  \n",
    "  \n",
    "  \n",
    "turtle.hideturtle()  \n",
    "turtle.mainloop()  "
   ]
  },
  {
   "cell_type": "code",
   "execution_count": null,
   "id": "94ed5586",
   "metadata": {},
   "outputs": [],
   "source": []
  },
  {
   "cell_type": "code",
   "execution_count": null,
   "id": "9fe1a183",
   "metadata": {},
   "outputs": [],
   "source": []
  },
  {
   "cell_type": "code",
   "execution_count": null,
   "id": "18758aea",
   "metadata": {},
   "outputs": [],
   "source": []
  },
  {
   "cell_type": "code",
   "execution_count": null,
   "id": "84d80247",
   "metadata": {},
   "outputs": [],
   "source": []
  },
  {
   "cell_type": "code",
   "execution_count": null,
   "id": "2f6e293b",
   "metadata": {},
   "outputs": [],
   "source": []
  },
  {
   "cell_type": "code",
   "execution_count": null,
   "id": "5dc81815",
   "metadata": {},
   "outputs": [],
   "source": []
  },
  {
   "cell_type": "code",
   "execution_count": null,
   "id": "5533ce9d",
   "metadata": {},
   "outputs": [],
   "source": []
  }
 ],
 "metadata": {
  "kernelspec": {
   "display_name": "Python 3 (ipykernel)",
   "language": "python",
   "name": "python3"
  },
  "language_info": {
   "codemirror_mode": {
    "name": "ipython",
    "version": 3
   },
   "file_extension": ".py",
   "mimetype": "text/x-python",
   "name": "python",
   "nbconvert_exporter": "python",
   "pygments_lexer": "ipython3",
   "version": "3.9.12"
  }
 },
 "nbformat": 4,
 "nbformat_minor": 5
}
