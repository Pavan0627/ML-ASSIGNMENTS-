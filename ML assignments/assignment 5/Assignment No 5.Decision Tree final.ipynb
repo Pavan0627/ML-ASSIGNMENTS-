{
 "cells": [
  {
   "cell_type": "markdown",
   "id": "1319ea98",
   "metadata": {},
   "source": [
    "## Q1.Telecom Churn Dataset"
   ]
  },
  {
   "cell_type": "code",
   "execution_count": null,
   "id": "e4493c24",
   "metadata": {},
   "outputs": [],
   "source": [
    "import pandas as pd\n",
    "import numpy as np\n",
    "import matplotlib.pyplot as plt\n",
    "import seaborn as sns"
   ]
  },
  {
   "cell_type": "code",
   "execution_count": null,
   "id": "e7dad9b5",
   "metadata": {},
   "outputs": [],
   "source": [
    "data=pd.read_csv('Telcom-Customer-Churn.csv')"
   ]
  },
  {
   "cell_type": "code",
   "execution_count": null,
   "id": "91fce76e",
   "metadata": {
    "scrolled": false
   },
   "outputs": [],
   "source": [
    "data"
   ]
  },
  {
   "cell_type": "markdown",
   "id": "0c6b6f7f",
   "metadata": {},
   "source": [
    "### Data Description"
   ]
  },
  {
   "cell_type": "markdown",
   "id": "1283de33",
   "metadata": {},
   "source": [
    "                                                                                customerID: Customer ID\n",
    "                                                                                genderCustomer: gender (female, male)\n",
    "                                                                                SeniorCitizen: Whether the customer is a senior citizen or not (1, 0)\n",
    "                                                                                PartnerWhether: the customer has a partner or not (Yes, No)\n",
    "                                                                                Dependents: Whether the customer has dependents or not (Yes, No)\n",
    "                                                                                tenure: Number of months the customer has stayed with the company\n",
    "                                                                                PhoneService: Whether the customer has a phone service or not (Yes, No)\n",
    "                                                                                MultipleLines: Whether the customer has multiple lines or not (Yes, No, No phone service)\n",
    "                                                                                InternetService: Customer’s internet service provider (DSL, Fiber optic, No)\n",
    "                                                                                OnlineSecurity: Whether the customer has online security or not (Yes, No, No internet service)\n",
    "                                                                                OnlineBackup: Whether the customer has online backup or not (Yes, No, No internet service)\n",
    "                                                                                DeviceProtection: Whether the customer has device protection or not (Yes, No, No internet service)\n",
    "                                                                                TechSupport: Whether the customer has tech support or not (Yes, No, No internet service)\n",
    "                                                                                StreamingTV: Whether the customer has streaming TV or not (Yes, No, No internet service)\n",
    "                                                                                StreamingMovies: Whether the customer has streaming movies or not (Yes, No, No internet service)\n",
    "                                                                                Contract: The contract term of the customer (Month-to-month, One year, Two year)\n",
    "                                                                                PaperlessBilling: Whether the customer has paperless billing or not (Yes, No)\n",
    "                                                                                PaymentMethod: The customer’s payment method (Electronic check, Mailed check, Bank transfer (automatic), Credit card (automatic))\n",
    "                                                                                MonthlyCharges: The amount charged to the customer monthly\n",
    "                                                                                TotalCharges: The total amount charged to the customer\n",
    "                                                                                Churn: Whether the customer churned or not (Yes or No)"
   ]
  },
  {
   "cell_type": "code",
   "execution_count": null,
   "id": "4778d7d6",
   "metadata": {
    "scrolled": false
   },
   "outputs": [],
   "source": [
    "data.info()"
   ]
  },
  {
   "cell_type": "code",
   "execution_count": null,
   "id": "c43c02c7",
   "metadata": {
    "scrolled": false
   },
   "outputs": [],
   "source": [
    "data.describe()"
   ]
  },
  {
   "cell_type": "markdown",
   "id": "95f6a653",
   "metadata": {},
   "source": [
    "### Changing The Datatypes"
   ]
  },
  {
   "cell_type": "code",
   "execution_count": null,
   "id": "7e87d3e8",
   "metadata": {},
   "outputs": [],
   "source": [
    "data['TotalCharges']=data['TotalCharges'].replace(' ' , 0)"
   ]
  },
  {
   "cell_type": "code",
   "execution_count": null,
   "id": "ecd4f08c",
   "metadata": {},
   "outputs": [],
   "source": [
    "data['TotalCharges']=data['TotalCharges'].astype('float64',errors='ignore')"
   ]
  },
  {
   "cell_type": "code",
   "execution_count": null,
   "id": "90dae587",
   "metadata": {},
   "outputs": [],
   "source": [
    "data.dtypes"
   ]
  },
  {
   "cell_type": "markdown",
   "id": "1cd143ad",
   "metadata": {},
   "source": [
    "## EDA"
   ]
  },
  {
   "cell_type": "code",
   "execution_count": null,
   "id": "e5cd99cb",
   "metadata": {
    "scrolled": true
   },
   "outputs": [],
   "source": [
    "x=data.Churn.value_counts()\n",
    "x"
   ]
  },
  {
   "cell_type": "markdown",
   "id": "9a95f175",
   "metadata": {},
   "source": [
    "# Churn count barplot"
   ]
  },
  {
   "cell_type": "code",
   "execution_count": null,
   "id": "fbc4a645",
   "metadata": {},
   "outputs": [],
   "source": [
    "x.plot(kind='bar',color=('red','green'));"
   ]
  },
  {
   "cell_type": "markdown",
   "id": "2cc9a3f9",
   "metadata": {},
   "source": [
    "From above bar plot we can clearly seen that out of 7043 customer, 5174 customer are not churned and 1869 customer are churned"
   ]
  },
  {
   "cell_type": "code",
   "execution_count": null,
   "id": "7bb03676",
   "metadata": {},
   "outputs": [],
   "source": [
    "label=['Churn is not Happen','Churn is Happen']\n",
    "plt.pie(x,autopct='%1.2f%%',colors=('blue','brown'))\n",
    "plt.title('Churn Distribution')\n",
    "plt.legend(label,loc=1)"
   ]
  },
  {
   "cell_type": "markdown",
   "id": "6c9a9d88",
   "metadata": {},
   "source": [
    "percentage of customer churned is 26.54 percent and customer not churned is 73.46 percent"
   ]
  },
  {
   "cell_type": "markdown",
   "id": "26c58633",
   "metadata": {},
   "source": [
    "# Barplot of Churn vs Contract"
   ]
  },
  {
   "cell_type": "code",
   "execution_count": null,
   "id": "381a5a00",
   "metadata": {},
   "outputs": [],
   "source": [
    "%matplotlib inline\n",
    "pd.crosstab(data.Contract,data.Churn).plot(kind='bar',color=('red','green'))\n",
    "plt.title('churn vs contract')\n",
    "plt.xlabel('Contract')\n",
    "plt.ylabel('Frequency of churn')\n"
   ]
  },
  {
   "cell_type": "markdown",
   "id": "242058be",
   "metadata": {},
   "source": [
    "The churn rate of month to month contract is much higher than one year and two year contract"
   ]
  },
  {
   "cell_type": "markdown",
   "id": "c029ac76",
   "metadata": {},
   "source": [
    "# Barplot of Churn vs Paperless Billing"
   ]
  },
  {
   "cell_type": "code",
   "execution_count": null,
   "id": "232d8536",
   "metadata": {},
   "outputs": [],
   "source": [
    "%matplotlib inline\n",
    "pd.crosstab(data.PaperlessBilling,data.Churn).plot(kind='bar',color=('orange','blue'))\n",
    "plt.title('churn vs Paperless billing')\n",
    "plt.xlabel('paperlessBilling')\n",
    "plt.ylabel('Frequency of churn')"
   ]
  },
  {
   "cell_type": "markdown",
   "id": "8e18a5fb",
   "metadata": {},
   "source": [
    "As we can see that the customer who has Paperless billing the churn rate are more in that case"
   ]
  },
  {
   "cell_type": "markdown",
   "id": "aabee32b",
   "metadata": {},
   "source": [
    "# Barplot of Churn vs Phoneservice"
   ]
  },
  {
   "cell_type": "code",
   "execution_count": null,
   "id": "00603ec4",
   "metadata": {
    "scrolled": false
   },
   "outputs": [],
   "source": [
    "%matplotlib inline\n",
    "pd.crosstab(data.PhoneService ,data.Churn).plot(kind='bar',color=('green','black'))\n",
    "plt.title('churn vs PhoneService ')\n",
    "plt.xlabel('Phoneservice')\n",
    "plt.ylabel('frequency of churn ')"
   ]
  },
  {
   "cell_type": "markdown",
   "id": "004fa862",
   "metadata": {},
   "source": [
    " The churn rate in customer having Phoneservice is comapatively high than customer with no phonservice"
   ]
  },
  {
   "cell_type": "code",
   "execution_count": null,
   "id": "3cf5b7f0",
   "metadata": {},
   "outputs": [],
   "source": [
    "label=['Churn is not Happen','Churn is Happen']\n",
    "Phoneservice_yes=data[data['PhoneService']=='Yes']['Churn'].value_counts()\n",
    "Phoneservice_No=data[data['PhoneService']=='No']['Churn'].value_counts()"
   ]
  },
  {
   "cell_type": "code",
   "execution_count": null,
   "id": "fb9ced0a",
   "metadata": {},
   "outputs": [],
   "source": [
    "plt.pie(Phoneservice_yes, colors =('red','blue'), autopct='%.0f%%')\n",
    "plt.title('Phone service is Yes')\n",
    "plt.legend(label,loc=1)\n",
    "plt.show()\n",
    "plt.pie(Phoneservice_No,  colors =('red','blue'), autopct='%.0f%%')\n",
    "plt.title('Phone service is NO')\n",
    "plt.legend(label,loc=1)\n",
    "plt.show()"
   ]
  },
  {
   "cell_type": "markdown",
   "id": "909ba5f7",
   "metadata": {},
   "source": [
    "If the customer has phoneservice then the churn rate is 27 percent\n",
    "If the customer dont have phoneservice  then the churn rate is 25 percent\n",
    "The total number of customer having phoneservice is much larger than the customer with no phoneservice"
   ]
  },
  {
   "cell_type": "markdown",
   "id": "3df22992",
   "metadata": {},
   "source": [
    "# Barplot of InternetService vs Churn"
   ]
  },
  {
   "cell_type": "code",
   "execution_count": null,
   "id": "4a14c785",
   "metadata": {},
   "outputs": [],
   "source": [
    "label=['Churn is not Happen','Churn is Happen']\n",
    "Internet_DSL=data[data['InternetService']=='DSL']['Churn'].value_counts()\n",
    "Internet_Fiber_optic=data[data['InternetService']=='Fiber optic']['Churn'].value_counts()\n",
    "Internet_No=data[data['InternetService']=='No']['Churn'].value_counts()\n",
    "myexplode=[0.1,0]\n",
    "myexplod=[0,0.1]"
   ]
  },
  {
   "cell_type": "code",
   "execution_count": null,
   "id": "ffe58981",
   "metadata": {},
   "outputs": [],
   "source": [
    "plt.pie(Internet_DSL,colors=('green','orange'),autopct='%1.2f%%',explode=myexplode)\n",
    "plt.title('Internet service is DSL')\n",
    "plt.legend(label,loc=1)\n",
    "plt.show()\n",
    "\n",
    "plt.pie(Internet_Fiber_optic,colors=('green','orange'),autopct='%.0f%%',explode=myexplod)\n",
    "plt.title('Internet service is Fiber Optic')\n",
    "plt.legend(label,loc=1)\n",
    "plt.show()\n",
    "\n",
    "plt.pie(Internet_No,colors=('green','orange'),autopct='%1.2f%%',explode=myexplode)\n",
    "plt.title('No Internet Service')\n",
    "plt.legend(label,loc=1)\n",
    "plt.show()"
   ]
  },
  {
   "cell_type": "markdown",
   "id": "5265d9ea",
   "metadata": {},
   "source": [
    "In the InternetService there are three categories (DSL, Fiber Optic,No Internet Service) in DSL there is 18.96 percent rate \n",
    "of churn and In fiber optic 42 percent and In No Internet Service there is 7.40 percent rate of churn"
   ]
  },
  {
   "cell_type": "markdown",
   "id": "6700473c",
   "metadata": {},
   "source": [
    "# Barplot of Churn vs SeniorCitizen"
   ]
  },
  {
   "cell_type": "code",
   "execution_count": null,
   "id": "6382a315",
   "metadata": {
    "scrolled": false
   },
   "outputs": [],
   "source": [
    "%matplotlib inline\n",
    "pd.crosstab(data.SeniorCitizen,data.Churn).plot(kind='bar',color=('red','blue'))\n",
    "plt.title('Churn vs SeniorCitizen')\n",
    "plt.xlabel('SeniorCitizen')\n",
    "plt.ylabel('Frequency of churn')\n",
    "plt.show()\n",
    "\n"
   ]
  },
  {
   "cell_type": "markdown",
   "id": "e2627190",
   "metadata": {},
   "source": [
    "# Piechart of Churn vs Seniorcitizen"
   ]
  },
  {
   "cell_type": "code",
   "execution_count": null,
   "id": "70515bcd",
   "metadata": {},
   "outputs": [],
   "source": [
    "seniorcitizen_yes=data[data['SeniorCitizen']==1]['Churn'].value_counts()\n",
    "print(seniorcitizen_yes)\n",
    "seniorcitizen_no=data[data['SeniorCitizen']==0]['Churn'].value_counts()\n",
    "print(seniorcitizen_no)\n",
    "label=['Churn is not Happen','Churn is Happen']\n",
    "myexplode=[0,0.1,]"
   ]
  },
  {
   "cell_type": "code",
   "execution_count": null,
   "id": "57070674",
   "metadata": {},
   "outputs": [],
   "source": [
    "%matplotlib inline\n",
    "plt.pie(seniorcitizen_yes,colors=('yellow','red'),autopct='%1.2f%%',explode=myexplod)\n",
    "plt.title(' senior citizen')\n",
    "plt.legend(label,loc=1)\n",
    "plt.show()\n",
    "%matplotlib inline\n",
    "plt.pie(seniorcitizen_no,colors=('yellow','red'),autopct='%1.2f%%',explode=myexplode)\n",
    "plt.title('Not a senior citizen')\n",
    "plt.legend(label,loc=1)\n",
    "plt.show()"
   ]
  },
  {
   "cell_type": "markdown",
   "id": "1a39ba1e",
   "metadata": {},
   "source": [
    "Total no of customer who is seniorcitizen is less than customer is not seniorcitizen\n",
    "the churn rate in  seniorcitizen customer is more than other customer"
   ]
  },
  {
   "cell_type": "markdown",
   "id": "631c4e0a",
   "metadata": {},
   "source": [
    "# Histogram of Totalcharges"
   ]
  },
  {
   "cell_type": "code",
   "execution_count": null,
   "id": "0074aacb",
   "metadata": {},
   "outputs": [],
   "source": [
    "data['TotalCharges'].plot(kind='hist',edgecolor='black',color='red')\n",
    "plt.title('Total charges Distriution')\n",
    "plt.xlabel('Totalcharges')\n",
    "plt.ylabel('Frequency of Total charges')\n",
    "plt.show()"
   ]
  },
  {
   "cell_type": "markdown",
   "id": "c3e3a5cc",
   "metadata": {},
   "source": [
    "The distribution of Totalcharges is Positively Skewed . most of the observation are between 0 to 2000"
   ]
  },
  {
   "cell_type": "markdown",
   "id": "7d17879b",
   "metadata": {},
   "source": [
    "# Piechart of dependents"
   ]
  },
  {
   "cell_type": "code",
   "execution_count": null,
   "id": "5eb2eede",
   "metadata": {},
   "outputs": [],
   "source": [
    "dependents_yes=data[data['Dependents']=='Yes']['Churn'].value_counts()\n",
    "print(dependents_yes)\n",
    "dependents_no=data[data['Dependents']=='No']['Churn'].value_counts()\n",
    "print(dependents_no)\n",
    "label=['Churn is not Happen','Churn is Happen']\n",
    "myexplode=[0,0.1,]"
   ]
  },
  {
   "cell_type": "code",
   "execution_count": null,
   "id": "86f0f454",
   "metadata": {},
   "outputs": [],
   "source": [
    "%matplotlib inline\n",
    "plt.pie(dependents_yes,colors=('yellow','red'),autopct='%1.2f%%',explode=myexplod)\n",
    "plt.title('dependents_yes')\n",
    "plt.legend(label,loc=1)\n",
    "plt.show()\n",
    "%matplotlib inline\n",
    "plt.pie(dependents_no,colors=('yellow','red'),autopct='%1.2f%%',explode=myexplode)\n",
    "plt.title('dependents_no')\n",
    "plt.legend(label,loc=1)\n",
    "plt.show()"
   ]
  },
  {
   "cell_type": "markdown",
   "id": "c5b4573f",
   "metadata": {},
   "source": [
    "churn rate of customer have dependents is less than customer dont having dependents"
   ]
  },
  {
   "cell_type": "code",
   "execution_count": null,
   "id": "bfc9a4b0",
   "metadata": {},
   "outputs": [],
   "source": [
    "#for i, predictor in enumerate(data.drop(columns=['Churn', 'TotalCharges', 'MonthlyCharges'])):\n",
    "    #plt.figure(i)\n",
    "   # sns.countplot(data=data, x=predictor, hue='Churn')"
   ]
  },
  {
   "cell_type": "markdown",
   "id": "679893f4",
   "metadata": {},
   "source": [
    "# One Hot Encoding"
   ]
  },
  {
   "cell_type": "code",
   "execution_count": null,
   "id": "53780a30",
   "metadata": {},
   "outputs": [],
   "source": [
    "data.Churn.replace({'Yes':1 , 'No':0},inplace=True)"
   ]
  },
  {
   "cell_type": "code",
   "execution_count": null,
   "id": "085258e3",
   "metadata": {},
   "outputs": [],
   "source": [
    "data1=pd.get_dummies(data=data,columns=['gender','Partner','Dependents','OnlineBackup','StreamingMovies','PhoneService','MultipleLines','InternetService','OnlineSecurity','DeviceProtection','TechSupport','StreamingTV','Contract','PaperlessBilling','PaymentMethod'],drop_first=True)"
   ]
  },
  {
   "cell_type": "code",
   "execution_count": null,
   "id": "db629c67",
   "metadata": {
    "scrolled": false
   },
   "outputs": [],
   "source": [
    "pd.set_option('display.max_columns',None)"
   ]
  },
  {
   "cell_type": "code",
   "execution_count": null,
   "id": "b7b0104b",
   "metadata": {},
   "outputs": [],
   "source": [
    "data1"
   ]
  },
  {
   "cell_type": "code",
   "execution_count": null,
   "id": "65e0efcd",
   "metadata": {
    "scrolled": true
   },
   "outputs": [],
   "source": [
    "data1.dtypes"
   ]
  },
  {
   "cell_type": "code",
   "execution_count": null,
   "id": "aca6c7a0",
   "metadata": {},
   "outputs": [],
   "source": [
    "data1=data1.drop(columns=['customerID'])"
   ]
  },
  {
   "cell_type": "code",
   "execution_count": null,
   "id": "d8332edf",
   "metadata": {
    "scrolled": true
   },
   "outputs": [],
   "source": [
    "data1"
   ]
  },
  {
   "cell_type": "code",
   "execution_count": null,
   "id": "7181f171",
   "metadata": {},
   "outputs": [],
   "source": [
    "data1.corr()['Churn']"
   ]
  },
  {
   "cell_type": "code",
   "execution_count": null,
   "id": "96de7835",
   "metadata": {},
   "outputs": [],
   "source": [
    "x=data1.drop(columns=['Churn','PaymentMethod_Mailed check'])\n"
   ]
  },
  {
   "cell_type": "code",
   "execution_count": null,
   "id": "5004e557",
   "metadata": {},
   "outputs": [],
   "source": [
    " y=data1['Churn']     #Target variable\n"
   ]
  },
  {
   "cell_type": "code",
   "execution_count": null,
   "id": "decc4c74",
   "metadata": {},
   "outputs": [],
   "source": [
    "from sklearn.model_selection import train_test_split"
   ]
  },
  {
   "cell_type": "code",
   "execution_count": null,
   "id": "3a8aae07",
   "metadata": {},
   "outputs": [],
   "source": [
    "from sklearn.tree import DecisionTreeClassifier"
   ]
  },
  {
   "cell_type": "code",
   "execution_count": null,
   "id": "f0ab44b4",
   "metadata": {},
   "outputs": [],
   "source": [
    "x_train,x_test,y_train,y_test=train_test_split(x,y,test_size=0.2,random_state=0)"
   ]
  },
  {
   "cell_type": "code",
   "execution_count": null,
   "id": "4aa0bc88",
   "metadata": {},
   "outputs": [],
   "source": [
    "model=DecisionTreeClassifier(max_depth=5)"
   ]
  },
  {
   "cell_type": "code",
   "execution_count": null,
   "id": "a0d5a253",
   "metadata": {},
   "outputs": [],
   "source": [
    "model.fit(x_train,y_train)"
   ]
  },
  {
   "cell_type": "code",
   "execution_count": null,
   "id": "c1459d29",
   "metadata": {},
   "outputs": [],
   "source": [
    "prediction=model.predict(x_test)\n",
    "prediction"
   ]
  },
  {
   "cell_type": "code",
   "execution_count": null,
   "id": "9fe412c4",
   "metadata": {},
   "outputs": [],
   "source": [
    "from sklearn.metrics import classification_report"
   ]
  },
  {
   "cell_type": "code",
   "execution_count": null,
   "id": "ff3cadef",
   "metadata": {
    "scrolled": true
   },
   "outputs": [],
   "source": [
    "print(classification_report(y_test,prediction))"
   ]
  },
  {
   "cell_type": "code",
   "execution_count": null,
   "id": "325c9bdd",
   "metadata": {},
   "outputs": [],
   "source": [
    "from sklearn.metrics import confusion_matrix"
   ]
  },
  {
   "cell_type": "code",
   "execution_count": null,
   "id": "7b346cfb",
   "metadata": {},
   "outputs": [],
   "source": [
    "confusion_matrix(y_test,prediction)"
   ]
  },
  {
   "cell_type": "code",
   "execution_count": null,
   "id": "87d15e93",
   "metadata": {},
   "outputs": [],
   "source": [
    "from sklearn.metrics import accuracy_score"
   ]
  },
  {
   "cell_type": "code",
   "execution_count": null,
   "id": "b49a1b46",
   "metadata": {},
   "outputs": [],
   "source": [
    "accuracy_score(y_test,prediction)"
   ]
  },
  {
   "cell_type": "code",
   "execution_count": null,
   "id": "e1f06eb7",
   "metadata": {},
   "outputs": [],
   "source": [
    "model.score(x_train,y_train)"
   ]
  },
  {
   "cell_type": "code",
   "execution_count": null,
   "id": "53fd07df",
   "metadata": {},
   "outputs": [],
   "source": [
    "model.score(x_test,y_test)"
   ]
  },
  {
   "cell_type": "markdown",
   "id": "c99e1031",
   "metadata": {},
   "source": [
    "# Decision Tree"
   ]
  },
  {
   "cell_type": "code",
   "execution_count": null,
   "id": "bf9dcef6",
   "metadata": {},
   "outputs": [],
   "source": [
    "from sklearn.tree import plot_tree\n",
    "\n",
    "plt.figure(figsize=(80,80))\n",
    "plot_tree(model,filled=True,feature_names=x_train.columns,class_names=['0','1']);\n",
    "plt.savefig('tree.png',dpi=400,bbox_inches='tight')\n",
    "plt.show()\n",
    "\n"
   ]
  },
  {
   "cell_type": "markdown",
   "id": "f01ea5c9",
   "metadata": {},
   "source": [
    "# B.Titanic Datasets"
   ]
  },
  {
   "cell_type": "code",
   "execution_count": null,
   "id": "7cd7fa44",
   "metadata": {},
   "outputs": [],
   "source": [
    "import pandas as pd"
   ]
  },
  {
   "cell_type": "code",
   "execution_count": null,
   "id": "92143ed0",
   "metadata": {
    "scrolled": true
   },
   "outputs": [],
   "source": [
    "data_main=pd.read_csv(r\"C:\\Users\\ds3\\Downloads\\gender_baseline.csv\")\n",
    "data_main"
   ]
  },
  {
   "cell_type": "code",
   "execution_count": null,
   "id": "ee45e4f7",
   "metadata": {},
   "outputs": [],
   "source": [
    "data_test=pd.read_csv(r\"C:\\Users\\ds3\\Downloads\\OneDrive_1_3-24-2023\\titanic_test.csv\")\n",
    "data_test"
   ]
  },
  {
   "cell_type": "code",
   "execution_count": null,
   "id": "654bc077",
   "metadata": {},
   "outputs": [],
   "source": [
    "data_train=pd.read_csv(r\"C:\\Users\\ds3\\Downloads\\OneDrive_1_3-24-2023\\titanic_train.csv\")\n",
    "data_train"
   ]
  },
  {
   "cell_type": "code",
   "execution_count": null,
   "id": "4938e5a3",
   "metadata": {
    "scrolled": true
   },
   "outputs": [],
   "source": [
    "data_test=data_test.merge(data_main,on='passenger_id',how='left')\n",
    "data_test"
   ]
  },
  {
   "cell_type": "markdown",
   "id": "f269e273",
   "metadata": {},
   "source": [
    "# Data Description"
   ]
  },
  {
   "cell_type": "raw",
   "id": "20bc74ab",
   "metadata": {},
   "source": [
    "pclass: Passenger class (1 = 1st; 2 = 2nd; 3 = 3rd)\n",
    "survival: A Boolean indicating whether the passenger survived or not (0 = No; 1 = Yes)\n",
    "name: A field rich in information as it contains title and family names\n",
    "sex: male/female\n",
    "age: Age\n",
    "sibsp: Number of siblings/spouses aboard\n",
    "parch: Number of parents/children aboard\n",
    "ticket: Ticket number.\n",
    "fare: Passenger fare (British Pound).\n",
    "cabin: Doesthe location of the cabin influence chances of survival?\n",
    "embarked: Port of embarkation (C = Cherbourg; Q = Queenstown; S = Southampton)\n",
    "boat: Lifeboat, many missing values\n",
    "body: Body Identification Number\n",
    "home.dest: Home/destination\n"
   ]
  },
  {
   "cell_type": "markdown",
   "id": "eebafdb7",
   "metadata": {},
   "source": [
    "# Droping of Unwanted Column"
   ]
  },
  {
   "cell_type": "code",
   "execution_count": null,
   "id": "43e4e6d6",
   "metadata": {},
   "outputs": [],
   "source": [
    "data_train=data_train.drop(['passenger_id','name','ticket','cabin','boat','body','home.dest','embarked'],axis=1)"
   ]
  },
  {
   "cell_type": "code",
   "execution_count": null,
   "id": "5eaa9a98",
   "metadata": {},
   "outputs": [],
   "source": [
    "data_test=data_test.drop(['passenger_id','name','ticket','cabin','boat','body','home.dest','embarked'],axis=1)"
   ]
  },
  {
   "cell_type": "code",
   "execution_count": null,
   "id": "558aae48",
   "metadata": {},
   "outputs": [],
   "source": [
    "data_train"
   ]
  },
  {
   "cell_type": "code",
   "execution_count": null,
   "id": "05f46499",
   "metadata": {
    "scrolled": true
   },
   "outputs": [],
   "source": [
    "data_test"
   ]
  },
  {
   "cell_type": "markdown",
   "id": "96de177b",
   "metadata": {},
   "source": [
    "# Checking For Null values"
   ]
  },
  {
   "cell_type": "code",
   "execution_count": null,
   "id": "8e264051",
   "metadata": {
    "scrolled": false
   },
   "outputs": [],
   "source": [
    "data_train.isnull().sum()"
   ]
  },
  {
   "cell_type": "markdown",
   "id": "840e2fc7",
   "metadata": {},
   "source": [
    "# Replacing Null values"
   ]
  },
  {
   "cell_type": "code",
   "execution_count": null,
   "id": "c38f799a",
   "metadata": {},
   "outputs": [],
   "source": [
    "data_train['age']=data_train['age'].fillna(data_train['age'].mean())\n",
    "data_train['fare']=data_train['fare'].fillna(data_train['fare'].mean())\n"
   ]
  },
  {
   "cell_type": "code",
   "execution_count": null,
   "id": "cf3ed2c1",
   "metadata": {},
   "outputs": [],
   "source": [
    "data_train.isnull().sum()"
   ]
  },
  {
   "cell_type": "code",
   "execution_count": null,
   "id": "98711ed8",
   "metadata": {},
   "outputs": [],
   "source": [
    "data_test.isnull().sum()"
   ]
  },
  {
   "cell_type": "code",
   "execution_count": null,
   "id": "54f60fab",
   "metadata": {},
   "outputs": [],
   "source": [
    "data_test['age']=data_test['age'].fillna(data_test['age'].mean())"
   ]
  },
  {
   "cell_type": "code",
   "execution_count": null,
   "id": "a9b7052f",
   "metadata": {
    "scrolled": true
   },
   "outputs": [],
   "source": [
    "data_test.isnull().sum()"
   ]
  },
  {
   "cell_type": "markdown",
   "id": "c7222df0",
   "metadata": {},
   "source": [
    "# manual encoding for sex column"
   ]
  },
  {
   "cell_type": "code",
   "execution_count": null,
   "id": "76bd3ec3",
   "metadata": {},
   "outputs": [],
   "source": [
    "data_train.replace({'male':0,'female':1},inplace=True)\n",
    "data_test.replace({'male':0,'female':1},inplace=True)"
   ]
  },
  {
   "cell_type": "code",
   "execution_count": null,
   "id": "d18fa47c",
   "metadata": {},
   "outputs": [],
   "source": [
    "data_train"
   ]
  },
  {
   "cell_type": "code",
   "execution_count": null,
   "id": "cdba8beb",
   "metadata": {},
   "outputs": [],
   "source": [
    "data_test"
   ]
  },
  {
   "cell_type": "markdown",
   "id": "02516c45",
   "metadata": {},
   "source": [
    "# EDA(Exploratory Data Analysis)"
   ]
  },
  {
   "cell_type": "markdown",
   "id": "7a239214",
   "metadata": {},
   "source": [
    "# Count plot of Survived (Train data)"
   ]
  },
  {
   "cell_type": "code",
   "execution_count": null,
   "id": "250ddd3d",
   "metadata": {},
   "outputs": [],
   "source": [
    "x=data_train.survived.value_counts()\n",
    "x.plot(kind='bar',color=('red','green'),edgecolor='black')\n",
    "plt.title('survived count')\n",
    "plt.xlabel('survived')\n",
    "plt.ylabel('frequency')\n",
    "plt.show()"
   ]
  },
  {
   "cell_type": "markdown",
   "id": "b11a2e4c",
   "metadata": {},
   "source": [
    "There is 850 Passanger totally out of which 313 Passanger are survived and 537 are not survived"
   ]
  },
  {
   "cell_type": "markdown",
   "id": "8f3ad641",
   "metadata": {},
   "source": [
    "# Count plot of Survived (Test data)"
   ]
  },
  {
   "cell_type": "code",
   "execution_count": null,
   "id": "55ded685",
   "metadata": {},
   "outputs": [],
   "source": [
    "x=data_test.survived.value_counts()\n",
    "print(x)\n",
    "x.plot(kind='bar',color=('red','green'),edgecolor='black')\n",
    "plt.title('survived count')\n",
    "plt.xlabel('survived')\n",
    "plt.ylabel('frequency')\n",
    "plt.show()"
   ]
  },
  {
   "cell_type": "markdown",
   "id": "78d32b99",
   "metadata": {},
   "source": [
    "There is 459 Passanger totally out of which 167 Passanger are survived and 292 are not survived"
   ]
  },
  {
   "cell_type": "markdown",
   "id": "efa8c432",
   "metadata": {},
   "source": [
    "# Pie chart of Sex vs Survived (Train)"
   ]
  },
  {
   "cell_type": "markdown",
   "id": "54cbb14a",
   "metadata": {},
   "source": [
    "# Male"
   ]
  },
  {
   "cell_type": "code",
   "execution_count": null,
   "id": "1dbe3197",
   "metadata": {},
   "outputs": [],
   "source": [
    "sex_male=data_train[data_train['sex']==0]['survived'].value_counts()\n",
    "print(sex_male)\n",
    "label=['not survived','survived']\n",
    "myexplode=[0,0.1]\n",
    "plt.pie(sex_male,autopct='%1.2f%%',colors=('red','green'),explode=myexplode)\n",
    "plt.title('sex=male')\n",
    "plt.legend(label,loc=1)\n",
    "plt.show()\n"
   ]
  },
  {
   "cell_type": "markdown",
   "id": "e353a314",
   "metadata": {},
   "source": [
    "from the above graph it is clear that survived rate of male passanger is very less.out of 551 only 103 passengers are survived."
   ]
  },
  {
   "cell_type": "markdown",
   "id": "138d00a4",
   "metadata": {},
   "source": [
    "# Female"
   ]
  },
  {
   "cell_type": "code",
   "execution_count": null,
   "id": "ac09de44",
   "metadata": {
    "scrolled": true
   },
   "outputs": [],
   "source": [
    "sex_female=data_train[data_train['sex']==1]['survived'].value_counts()\n",
    "print(sex_female)\n",
    "label=['survived','not survived']\n",
    "plt.pie(sex_female,autopct='%1.2f%%',colors=('green','red'),explode=myexplode)\n",
    "plt.title('sex=female')\n",
    "plt.legend(label,loc=1)\n",
    "plt.show()"
   ]
  },
  {
   "cell_type": "markdown",
   "id": "ed649485",
   "metadata": {},
   "source": [
    "from  Above figure It is clear that The survival rate of female is much better than male . out of 299 female passenger ,\n",
    "210 female passenger are survived."
   ]
  },
  {
   "cell_type": "markdown",
   "id": "c9b21894",
   "metadata": {},
   "source": [
    "# Test Data"
   ]
  },
  {
   "cell_type": "markdown",
   "id": "932f937e",
   "metadata": {},
   "source": [
    "# Male"
   ]
  },
  {
   "cell_type": "code",
   "execution_count": null,
   "id": "da3940e8",
   "metadata": {},
   "outputs": [],
   "source": [
    "sex_male=data_test[data_test['sex']==0]['survived'].value_counts()\n",
    "print(sex_male)\n",
    "plt.pie(sex_male,autopct='%1.2f%%',colors=('red','green'))\n",
    "plt.title('sex=male')\n",
    "label=['not survived']\n",
    "plt.legend(label,loc=1)\n",
    "plt.show()\n"
   ]
  },
  {
   "cell_type": "markdown",
   "id": "70ed609d",
   "metadata": {},
   "source": [
    "from above we can clearly observed that not a single passenger is survived out of 292 passenger"
   ]
  },
  {
   "cell_type": "markdown",
   "id": "2a62d13c",
   "metadata": {},
   "source": [
    "# Female"
   ]
  },
  {
   "cell_type": "code",
   "execution_count": null,
   "id": "bc4c86a2",
   "metadata": {},
   "outputs": [],
   "source": [
    "sex_female=data_test[data_test['sex']==1]['survived'].value_counts()\n",
    "plt.pie(sex_female,autopct='%1.2f%%',colors=('green'))\n",
    "plt.title('sex=female')\n",
    "label=['survived']\n",
    "plt.legend(label,loc=1)\n",
    "plt.show()"
   ]
  },
  {
   "cell_type": "markdown",
   "id": "1d4fa665",
   "metadata": {},
   "source": [
    "The survival rate of female passenger is 100 percent"
   ]
  },
  {
   "cell_type": "markdown",
   "id": "dd2e3243",
   "metadata": {},
   "source": [
    "# Barplot of Survived vs Pclass(Train)"
   ]
  },
  {
   "cell_type": "code",
   "execution_count": null,
   "id": "c26c2355",
   "metadata": {},
   "outputs": [],
   "source": [
    "pd.crosstab(data_train.pclass,data_train.survived).plot(kind='bar',color=('red','blue','green'))\n",
    "plt.title('survived vs pclass')\n",
    "plt.xlabel('pclass')\n",
    "plt.ylabel('count of survived')\n",
    "label=['not survived','survived']\n",
    "plt.legend(label,loc=2)\n",
    "plt.show()\n",
    "\n"
   ]
  },
  {
   "cell_type": "markdown",
   "id": "6a8905b0",
   "metadata": {},
   "source": [
    "from above figure we can observed that there are geater number of passengers in Class3 than class1 or class2 but the survival \n",
    "rate is lesser than other two classes."
   ]
  },
  {
   "cell_type": "markdown",
   "id": "0cb80efc",
   "metadata": {},
   "source": [
    "# Barplot of Survived vs Sibsp(Train)"
   ]
  },
  {
   "cell_type": "code",
   "execution_count": null,
   "id": "7e9a7cb6",
   "metadata": {},
   "outputs": [],
   "source": [
    "label=['not survived','survived']\n",
    "pd.crosstab(data_train.sibsp,data_train.survived).plot(kind='bar',color=('red','green'))\n",
    "plt.title('survived vs sibsp')\n",
    "plt.xlabel('sibsp')\n",
    "plt.ylabel('count of survived')\n",
    "plt.legend(label,loc=1)\n",
    "plt.show()\n"
   ]
  },
  {
   "cell_type": "markdown",
   "id": "3a876f68",
   "metadata": {},
   "source": [
    "As the Number of sibling increased the survival rate goes down.most of the pasangers are with no siblings."
   ]
  },
  {
   "cell_type": "markdown",
   "id": "d1d72a70",
   "metadata": {},
   "source": [
    "# Barplot of survived vs parch(Train)"
   ]
  },
  {
   "cell_type": "code",
   "execution_count": null,
   "id": "6bbb9666",
   "metadata": {},
   "outputs": [],
   "source": [
    "label=['not survived','survived']\n",
    "pd.crosstab(data_train.parch,data_train.survived).plot(kind='bar',color=('blue','green'))\n",
    "plt.title('survived vs parch')\n",
    "plt.xlabel('parch')\n",
    "plt.ylabel('count of survived')\n",
    "plt.legend(label,loc=1)\n",
    "plt.show()"
   ]
  },
  {
   "cell_type": "markdown",
   "id": "3d1bb6d8",
   "metadata": {},
   "source": [
    "most of the passenger are with no parents.the survival rate of passenger with one parent is \n",
    "more than other, as the number of parents increased survival rate goes down"
   ]
  },
  {
   "cell_type": "markdown",
   "id": "c5ea244a",
   "metadata": {},
   "source": [
    "# Barplot of Survived vs Pclass(Test)"
   ]
  },
  {
   "cell_type": "code",
   "execution_count": null,
   "id": "d9be822e",
   "metadata": {},
   "outputs": [],
   "source": [
    "pd.crosstab(data_test.pclass,data_test.survived).plot(kind='bar',color=('red','blue','green'))\n",
    "plt.title('survived vs pclass')\n",
    "plt.xlabel('pclass')\n",
    "plt.ylabel('count of survived')\n",
    "label=['not survived','survived']\n",
    "plt.legend(label,loc=2)\n",
    "plt.show()\n"
   ]
  },
  {
   "cell_type": "markdown",
   "id": "2ea40e8c",
   "metadata": {},
   "source": [
    "Count of passenger in class3 is larger and the survival rate is lesser than oher two classes"
   ]
  },
  {
   "cell_type": "markdown",
   "id": "2ea31e3a",
   "metadata": {},
   "source": [
    "# Barplot of survived vs sibsp"
   ]
  },
  {
   "cell_type": "code",
   "execution_count": null,
   "id": "def3e362",
   "metadata": {},
   "outputs": [],
   "source": [
    "label=['not survived','survived']\n",
    "pd.crosstab(data_test.sibsp,data_test.survived).plot(kind='bar',color=('red','green'))\n",
    "plt.title('survived vs sibsp')\n",
    "plt.xlabel('sibsp')\n",
    "plt.ylabel('count of survived')\n",
    "plt.legend(label,loc=1)\n",
    "plt.show()\n"
   ]
  },
  {
   "cell_type": "markdown",
   "id": "2116e19d",
   "metadata": {},
   "source": [
    "As the Number of sibling increased the survival rate goes down.most of the pasangers are with no siblings."
   ]
  },
  {
   "cell_type": "markdown",
   "id": "2aab80f3",
   "metadata": {},
   "source": [
    "# Barplot of survived vs Parch"
   ]
  },
  {
   "cell_type": "code",
   "execution_count": null,
   "id": "404153f7",
   "metadata": {},
   "outputs": [],
   "source": [
    "label=['not survived','survived']\n",
    "pd.crosstab(data_test.sibsp,data_test.survived).plot(kind='bar',color=('blue','green'))\n",
    "plt.title('survived vs parch')\n",
    "plt.xlabel('parch')\n",
    "plt.ylabel('count of survived')\n",
    "plt.legend(label,loc=1)\n",
    "plt.show()"
   ]
  },
  {
   "cell_type": "markdown",
   "id": "ee5d4400",
   "metadata": {},
   "source": [
    "most of the passenger are with no parents.the survival rate of passenger with one parent is more than other, as the number of parents increased survival rate goes down"
   ]
  },
  {
   "cell_type": "markdown",
   "id": "23fbc3c9",
   "metadata": {},
   "source": [
    "# Histogram of Age(Train)"
   ]
  },
  {
   "cell_type": "code",
   "execution_count": null,
   "id": "33bdfd35",
   "metadata": {
    "scrolled": true
   },
   "outputs": [],
   "source": [
    "data_train['age'].plot(kind='hist',color='red',edgecolor='black')\n",
    "plt.title('Distribution of Age')\n",
    "plt.xlabel('age')\n",
    "plt.ylabel('count of age')\n",
    "plt.show()"
   ]
  },
  {
   "cell_type": "markdown",
   "id": "6d7144ae",
   "metadata": {},
   "source": [
    "The observations are following normal distribution"
   ]
  },
  {
   "cell_type": "markdown",
   "id": "6f9b8737",
   "metadata": {},
   "source": [
    "# Histogram of Fare(Train)"
   ]
  },
  {
   "cell_type": "code",
   "execution_count": null,
   "id": "a2f391d5",
   "metadata": {},
   "outputs": [],
   "source": [
    "data_train['fare'].plot(kind='hist',color='blue',edgecolor='black')\n",
    "plt.title('Distribution of fare')\n",
    "plt.xlabel('fare')\n",
    "plt.ylabel('count of fare')\n",
    "plt.show()"
   ]
  },
  {
   "cell_type": "markdown",
   "id": "98a6c6ac",
   "metadata": {},
   "source": [
    "The distribution of 'fare 'column is Right skewed"
   ]
  },
  {
   "cell_type": "markdown",
   "id": "0463e66c",
   "metadata": {},
   "source": [
    "# Histogram of Age(Test)"
   ]
  },
  {
   "cell_type": "code",
   "execution_count": null,
   "id": "dc9e04aa",
   "metadata": {
    "scrolled": false
   },
   "outputs": [],
   "source": [
    "data_test['age'].plot(kind='hist',color='red',edgecolor='black')\n",
    "plt.title('Distribution of Age')\n",
    "plt.xlabel('age')\n",
    "plt.ylabel('count of age')\n",
    "plt.show()\n"
   ]
  },
  {
   "cell_type": "markdown",
   "id": "9264dc59",
   "metadata": {},
   "source": [
    "The observations are following normal distribution"
   ]
  },
  {
   "cell_type": "markdown",
   "id": "ee74f915",
   "metadata": {},
   "source": [
    "# Histogram of Fare(Test)"
   ]
  },
  {
   "cell_type": "code",
   "execution_count": null,
   "id": "b23b7b15",
   "metadata": {},
   "outputs": [],
   "source": [
    "data_test['fare'].plot(kind='hist',color='blue',edgecolor='black')\n",
    "plt.title('Distribution of fare')\n",
    "plt.xlabel('fare')\n",
    "plt.ylabel('count of fare')\n",
    "plt.show()"
   ]
  },
  {
   "cell_type": "markdown",
   "id": "d37a28d6",
   "metadata": {},
   "source": [
    "The distribution of 'fare 'column is Right skewed"
   ]
  },
  {
   "cell_type": "code",
   "execution_count": null,
   "id": "92537447",
   "metadata": {},
   "outputs": [],
   "source": [
    "data_train.corr()['survived']"
   ]
  },
  {
   "cell_type": "code",
   "execution_count": null,
   "id": "24e744e5",
   "metadata": {},
   "outputs": [],
   "source": [
    "data_test.corr()['survived']"
   ]
  },
  {
   "cell_type": "markdown",
   "id": "5ec29cec",
   "metadata": {},
   "source": [
    "# Fitting the model"
   ]
  },
  {
   "cell_type": "code",
   "execution_count": null,
   "id": "10e4bcf8",
   "metadata": {},
   "outputs": [],
   "source": [
    "x1_train=data_train.drop(['survived'],axis=1)\n",
    "y1_train=data_train['survived']\n",
    "x1_test=data_test.drop(['survived'],axis=1)\n",
    "y1_test=data_test['survived']\n",
    "from sklearn.tree import DecisionTreeClassifier\n",
    "from sklearn.metrics import classification_report\n",
    "from sklearn.metrics import confusion_matrix\n",
    "model=DecisionTreeClassifier()\n",
    "model.fit(x1_train,y1_train)\n",
    "prediction=model.predict(x1_test)\n",
    "print(classification_report(y1_test,prediction))\n",
    "confusion_matrix(y1_test,prediction)\n",
    "from sklearn import metrics\n"
   ]
  },
  {
   "cell_type": "code",
   "execution_count": null,
   "id": "27124c58",
   "metadata": {},
   "outputs": [],
   "source": [
    "x_train=data_train.drop(['survived','age','fare'],axis=1)\n",
    "y_train=data_train['survived']\n",
    "x_test=data_test.drop(['survived','age','fare'],axis=1)\n",
    "y_test=data_test['survived']\n",
    "from sklearn.tree import DecisionTreeClassifier\n",
    "from sklearn.metrics import classification_report\n",
    "from sklearn.metrics import confusion_matrix\n",
    "model=DecisionTreeClassifier(max_depth=5)\n",
    "model.fit(x_train,y_train)\n",
    "prediction=model.predict(x_test)\n",
    "print(classification_report(y_test,prediction))\n",
    "confusion_matrix(y_test,prediction)\n",
    "from sklearn import metrics\n"
   ]
  },
  {
   "cell_type": "markdown",
   "id": "3395d95a",
   "metadata": {},
   "source": [
    "# Decision Tree"
   ]
  },
  {
   "cell_type": "code",
   "execution_count": null,
   "id": "2f9d6b2a",
   "metadata": {},
   "outputs": [],
   "source": [
    "from sklearn.tree import plot_tree\n",
    "\n",
    "plt.figure(figsize=(20,20))\n",
    "plot_tree(\n",
    "      model,\n",
    "      filled=True,\n",
    "       rounded=True,\n",
    "       feature_names=x_train.columns,\n",
    "       class_names=['0','1']\n",
    ")\n",
    "plt.savefig('tree.png',dpi=900,bbox_inches='tight')\n",
    "plt.show()"
   ]
  },
  {
   "cell_type": "markdown",
   "id": "a8241ad7",
   "metadata": {},
   "source": [
    "# C.US HOUSE PRICING DATASETS"
   ]
  },
  {
   "cell_type": "code",
   "execution_count": null,
   "id": "a1ae3308",
   "metadata": {
    "scrolled": true
   },
   "outputs": [],
   "source": [
    "data=pd.read_csv(r\"C:\\Users\\ds3\\Downloads\\USA_Housing.csv\")\n",
    "data"
   ]
  },
  {
   "cell_type": "code",
   "execution_count": null,
   "id": "74985c2f",
   "metadata": {},
   "outputs": [],
   "source": [
    "data.describe()"
   ]
  },
  {
   "cell_type": "code",
   "execution_count": null,
   "id": "21f23866",
   "metadata": {},
   "outputs": [],
   "source": [
    "data.info()"
   ]
  },
  {
   "cell_type": "code",
   "execution_count": null,
   "id": "5248ec2a",
   "metadata": {},
   "outputs": [],
   "source": [
    "data.shape"
   ]
  },
  {
   "cell_type": "code",
   "execution_count": null,
   "id": "265d34a8",
   "metadata": {},
   "outputs": [],
   "source": [
    "data.dtypes"
   ]
  },
  {
   "cell_type": "code",
   "execution_count": null,
   "id": "6d1ebd67",
   "metadata": {},
   "outputs": [],
   "source": [
    "data=data.drop(['Address'],axis=1)"
   ]
  },
  {
   "cell_type": "code",
   "execution_count": null,
   "id": "bc85659e",
   "metadata": {},
   "outputs": [],
   "source": [
    "data.isnull().sum()"
   ]
  },
  {
   "cell_type": "code",
   "execution_count": null,
   "id": "8bf86ca3",
   "metadata": {},
   "outputs": [],
   "source": [
    "data.duplicated().sum()"
   ]
  },
  {
   "cell_type": "markdown",
   "id": "1d61cfea",
   "metadata": {},
   "source": [
    "# EDA"
   ]
  },
  {
   "cell_type": "code",
   "execution_count": null,
   "id": "f4d9b8d3",
   "metadata": {},
   "outputs": [],
   "source": [
    "import seaborn as sns"
   ]
  },
  {
   "cell_type": "markdown",
   "id": "bcfd8481",
   "metadata": {},
   "source": [
    "# Distribution Plot of Price Column"
   ]
  },
  {
   "cell_type": "code",
   "execution_count": null,
   "id": "10b3ff5d",
   "metadata": {},
   "outputs": [],
   "source": [
    "sns.distplot(data.Price,color='red')"
   ]
  },
  {
   "cell_type": "markdown",
   "id": "443f5393",
   "metadata": {},
   "source": [
    "Price column follow normal distribution"
   ]
  },
  {
   "cell_type": "markdown",
   "id": "1c262634",
   "metadata": {},
   "source": [
    "# Histogram of Area Population"
   ]
  },
  {
   "cell_type": "code",
   "execution_count": null,
   "id": "7963f1d6",
   "metadata": {},
   "outputs": [],
   "source": [
    "data['Area Population'].plot(kind='hist',color='blue',edgecolor='black')\n",
    "plt.title('Area Population Distribution')\n",
    "plt.xlabel('Area Population')"
   ]
  },
  {
   "cell_type": "markdown",
   "id": "66989325",
   "metadata": {},
   "source": [
    "Area Population follows normally skewed distribution"
   ]
  },
  {
   "cell_type": "markdown",
   "id": "e5e52592",
   "metadata": {},
   "source": [
    "# Histogram of Avg Area Income"
   ]
  },
  {
   "cell_type": "code",
   "execution_count": null,
   "id": "ad30883e",
   "metadata": {},
   "outputs": [],
   "source": [
    "data['Avg. Area Income'].plot(kind='hist',color='green',edgecolor='black')\n",
    "plt.title('Avg. Area Income Distribution')\n",
    "plt.xlabel('Avg. Area Income')"
   ]
  },
  {
   "cell_type": "code",
   "execution_count": null,
   "id": "b5b1180a",
   "metadata": {},
   "outputs": [],
   "source": [
    "data['Avg. Area House Age'].plot(kind='hist',color='yellow',edgecolor='black')\n",
    "plt.title('Avg. Area House Age Distribution')\n",
    "plt.xlabel('Avg. Area House Age')"
   ]
  },
  {
   "cell_type": "code",
   "execution_count": null,
   "id": "2be0350c",
   "metadata": {},
   "outputs": [],
   "source": [
    "'Avg. Area Number of Rooms'\n",
    "data['Avg. Area Number of Rooms'].plot(kind='hist',color='orange',edgecolor='black')\n",
    "plt.title('Avg. Area Number of Rooms Distribution')\n",
    "plt.xlabel('Avg. Area Number of Rooms')"
   ]
  },
  {
   "cell_type": "code",
   "execution_count": null,
   "id": "2d07a6a5",
   "metadata": {},
   "outputs": [],
   "source": [
    "from sklearn.model_selection import train_test_split\n",
    "from sklearn.tree import DecisionTreeRegressor\n",
    "from sklearn.metrics import classification_report\n",
    "from sklearn.metrics import confusion_matrix"
   ]
  },
  {
   "cell_type": "code",
   "execution_count": null,
   "id": "bf53fcfd",
   "metadata": {},
   "outputs": [],
   "source": [
    "x=data.drop(['Price'],axis=1)\n",
    "y=data['Price']"
   ]
  },
  {
   "cell_type": "code",
   "execution_count": null,
   "id": "f3eab172",
   "metadata": {},
   "outputs": [],
   "source": [
    "x_train,x_test,y_train,y_test=train_test_split(x,y,test_size=0.2,random_state=0)"
   ]
  },
  {
   "cell_type": "code",
   "execution_count": null,
   "id": "9b0484f6",
   "metadata": {},
   "outputs": [],
   "source": [
    "model=DecisionTreeRegressor(max_depth=5)"
   ]
  },
  {
   "cell_type": "code",
   "execution_count": null,
   "id": "273b1232",
   "metadata": {},
   "outputs": [],
   "source": [
    "model.fit(x_train,y_train)"
   ]
  },
  {
   "cell_type": "code",
   "execution_count": null,
   "id": "bb976c3d",
   "metadata": {},
   "outputs": [],
   "source": [
    "y_pred=model.predict(x_test)"
   ]
  },
  {
   "cell_type": "code",
   "execution_count": null,
   "id": "c07a8927",
   "metadata": {},
   "outputs": [],
   "source": [
    "from sklearn.metrics import mean_absolute_error,mean_squared_error,r2_score,accuracy_score\n",
    "from sklearn import metrics\n",
    "print(mean_absolute_error(y_test,y_pred))\n",
    "print(mean_squared_error(y_test,y_pred))\n",
    "print(mean_squared_error(y_test,y_pred)**0.5)\n",
    "print(r2_score(y_test,y_pred))\n"
   ]
  },
  {
   "cell_type": "code",
   "execution_count": null,
   "id": "9f05b038",
   "metadata": {},
   "outputs": [],
   "source": [
    "model.score(x_test,y_test)"
   ]
  },
  {
   "cell_type": "code",
   "execution_count": null,
   "id": "2638ca5b",
   "metadata": {},
   "outputs": [],
   "source": [
    "from sklearn.tree import plot_tree\n",
    "\n",
    "plt.figure(figsize=(20,20))\n",
    "plot_tree(model,filled=True,rounded=True,feature_names=x_train.columns,class_names=['0','1']);\n",
    "plt.savefig('tree.png',dpi=900,bbox_inches='tight')\n",
    "plt.show()"
   ]
  },
  {
   "cell_type": "code",
   "execution_count": null,
   "id": "0d76ce25",
   "metadata": {},
   "outputs": [],
   "source": []
  },
  {
   "cell_type": "code",
   "execution_count": null,
   "id": "858f9065",
   "metadata": {},
   "outputs": [],
   "source": []
  }
 ],
 "metadata": {
  "kernelspec": {
   "display_name": "Python 3 (ipykernel)",
   "language": "python",
   "name": "python3"
  },
  "language_info": {
   "codemirror_mode": {
    "name": "ipython",
    "version": 3
   },
   "file_extension": ".py",
   "mimetype": "text/x-python",
   "name": "python",
   "nbconvert_exporter": "python",
   "pygments_lexer": "ipython3",
   "version": "3.9.12"
  }
 },
 "nbformat": 4,
 "nbformat_minor": 5
}
